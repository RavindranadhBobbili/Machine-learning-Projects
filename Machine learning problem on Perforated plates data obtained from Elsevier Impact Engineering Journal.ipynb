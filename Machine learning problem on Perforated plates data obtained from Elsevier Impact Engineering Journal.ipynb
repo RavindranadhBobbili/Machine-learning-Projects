{
 "cells": [
  {
   "cell_type": "code",
   "execution_count": 1,
   "metadata": {},
   "outputs": [
    {
     "name": "stdout",
     "output_type": "stream",
     "text": [
      "[[1 0]\n",
      " [0 4]]\n",
      "               precision    recall  f1-score   support\n",
      "\n",
      "Cracked bulge       1.00      1.00      1.00         1\n",
      " Smooth bulge       1.00      1.00      1.00         4\n",
      "\n",
      "     accuracy                           1.00         5\n",
      "    macro avg       1.00      1.00      1.00         5\n",
      " weighted avg       1.00      1.00      1.00         5\n",
      "\n"
     ]
    },
    {
     "name": "stderr",
     "output_type": "stream",
     "text": [
      "C:\\Users\\dell\\Anaconda3\\lib\\site-packages\\sklearn\\preprocessing\\_encoders.py:415: FutureWarning: The handling of integer data will change in version 0.22. Currently, the categories are determined based on the range [0, max(values)], while in the future they will be determined based on the unique values.\n",
      "If you want the future behaviour and silence this warning, you can specify \"categories='auto'\".\n",
      "In case you used a LabelEncoder before this OneHotEncoder to convert the categories to integers, then you can now use the OneHotEncoder directly.\n",
      "  warnings.warn(msg, FutureWarning)\n"
     ]
    },
    {
     "data": {
      "text/plain": [
       "Text(113.92222222222226, 0.5, 'true value')"
      ]
     },
     "execution_count": 1,
     "metadata": {},
     "output_type": "execute_result"
    }
   ],
   "source": [
    "from sklearn import preprocessing\n",
    "import pandas as pd\n",
    "import matplotlib.pyplot as plt\n",
    "from sklearn.model_selection import train_test_split\n",
    "from sklearn.preprocessing import LabelEncoder\n",
    "from sklearn.tree import DecisionTreeClassifier\n",
    "df=pd.read_csv(r'C:\\Users\\dell\\Desktop\\Perforation plates-2.csv')\n",
    "x=df.drop('Damage Type',axis='columns')\n",
    "y=df['Damage Type']\n",
    "le = preprocessing.LabelEncoder()\n",
    "x1 = df.apply(le.fit_transform)\n",
    "enc = preprocessing.OneHotEncoder()\n",
    "enc.fit(x1)\n",
    "onehotlabels = enc.transform(x1).toarray()\n",
    "x1_train, x1_test, y_train, y_test = train_test_split(x1, y, random_state=0)\n",
    "y=y.values.reshape(-1,1)\n",
    "from sklearn.ensemble import RandomForestClassifier\n",
    "classifier=DecisionTreeClassifier()\n",
    "classifier=classifier.fit(x1_train,y_train)\n",
    "pred_y= classifier.predict(x1_test)\n",
    "from sklearn import metrics\n",
    "from sklearn.metrics import classification_report, confusion_matrix\n",
    "print(confusion_matrix(y_test, pred_y))\n",
    "print(classification_report(y_test, pred_y))\n",
    "y_model= classifier.predict(x1_test)\n",
    "import seaborn as sns\n",
    "mat = confusion_matrix(y_test, y_model)\n",
    "sns.heatmap(mat, square=True, annot=True, cbar=False)\n",
    "plt.xlabel('predicted value')\n",
    "plt.ylabel('true value')"
   ]
  },
  {
   "cell_type": "code",
   "execution_count": 2,
   "metadata": {},
   "outputs": [
    {
     "name": "stdout",
     "output_type": "stream",
     "text": [
      "[[0 1]\n",
      " [0 4]]\n",
      "               precision    recall  f1-score   support\n",
      "\n",
      "Cracked bulge       0.00      0.00      0.00         1\n",
      " Smooth bulge       0.80      1.00      0.89         4\n",
      "\n",
      "     accuracy                           0.80         5\n",
      "    macro avg       0.40      0.50      0.44         5\n",
      " weighted avg       0.64      0.80      0.71         5\n",
      "\n"
     ]
    },
    {
     "name": "stderr",
     "output_type": "stream",
     "text": [
      "C:\\Users\\dell\\Anaconda3\\lib\\site-packages\\sklearn\\preprocessing\\_encoders.py:415: FutureWarning: The handling of integer data will change in version 0.22. Currently, the categories are determined based on the range [0, max(values)], while in the future they will be determined based on the unique values.\n",
      "If you want the future behaviour and silence this warning, you can specify \"categories='auto'\".\n",
      "In case you used a LabelEncoder before this OneHotEncoder to convert the categories to integers, then you can now use the OneHotEncoder directly.\n",
      "  warnings.warn(msg, FutureWarning)\n",
      "C:\\Users\\dell\\Anaconda3\\lib\\site-packages\\sklearn\\linear_model\\logistic.py:432: FutureWarning: Default solver will be changed to 'lbfgs' in 0.22. Specify a solver to silence this warning.\n",
      "  FutureWarning)\n",
      "C:\\Users\\dell\\Anaconda3\\lib\\site-packages\\sklearn\\linear_model\\logistic.py:469: FutureWarning: Default multi_class will be changed to 'auto' in 0.22. Specify the multi_class option to silence this warning.\n",
      "  \"this warning.\", FutureWarning)\n",
      "C:\\Users\\dell\\Anaconda3\\lib\\site-packages\\sklearn\\metrics\\classification.py:1437: UndefinedMetricWarning: Precision and F-score are ill-defined and being set to 0.0 in labels with no predicted samples.\n",
      "  'precision', 'predicted', average, warn_for)\n"
     ]
    },
    {
     "data": {
      "text/plain": [
       "Text(91.68, 0.5, 'true value')"
      ]
     },
     "execution_count": 2,
     "metadata": {},
     "output_type": "execute_result"
    },
    {
     "data": {
      "image/png": "[encoded data removed]",
      "text/plain": [
       "<Figure size 432x288 with 1 Axes>"
      ]
     },
     "metadata": {
      "needs_background": "light"
     },
     "output_type": "display_data"
    }
   ],
   "source": [
    "from sklearn import preprocessing\n",
    "import pandas as pd\n",
    "import matplotlib.pyplot as plt\n",
    "from sklearn.model_selection import train_test_split\n",
    "from sklearn.preprocessing import LabelEncoder\n",
    "df=pd.read_csv(r'C:\\Users\\dell\\Desktop\\Perforation plates-2.csv')\n",
    "x=df.drop('Damage Type',axis='columns')\n",
    "y=df['Damage Type']\n",
    "le = preprocessing.LabelEncoder()\n",
    "x1 = df.apply(le.fit_transform)\n",
    "enc = preprocessing.OneHotEncoder()\n",
    "enc.fit(x1)\n",
    "onehotlabels = enc.transform(x1).toarray()\n",
    "x1_train, x1_test, y_train, y_test = train_test_split(x1, y, random_state=0)\n",
    "y=y.values.reshape(-1,1)\n",
    "from sklearn.linear_model import LogisticRegression\n",
    "logreg = LogisticRegression()\n",
    "logreg.fit(x1_train, y_train)\n",
    "y_model= logreg.predict(x1_test)\n",
    "from sklearn import metrics\n",
    "from sklearn.metrics import classification_report, confusion_matrix\n",
    "print(confusion_matrix(y_test, y_model))\n",
    "print(classification_report(y_test, y_model))\n",
    "from sklearn.metrics import classification_report, confusion_matrix\n",
    "import seaborn as sns\n",
    "mat = confusion_matrix(y_test, y_model)\n",
    "sns.heatmap(mat, square=True, annot=True, cbar=False)\n",
    "plt.xlabel('predicted value')\n",
    "plt.ylabel('true value')"
   ]
  },
  {
   "cell_type": "code",
   "execution_count": 3,
   "metadata": {},
   "outputs": [
    {
     "name": "stderr",
     "output_type": "stream",
     "text": [
      "C:\\Users\\dell\\Anaconda3\\lib\\site-packages\\sklearn\\preprocessing\\_encoders.py:415: FutureWarning: The handling of integer data will change in version 0.22. Currently, the categories are determined based on the range [0, max(values)], while in the future they will be determined based on the unique values.\n",
      "If you want the future behaviour and silence this warning, you can specify \"categories='auto'\".\n",
      "In case you used a LabelEncoder before this OneHotEncoder to convert the categories to integers, then you can now use the OneHotEncoder directly.\n",
      "  warnings.warn(msg, FutureWarning)\n",
      "C:\\Users\\dell\\Anaconda3\\lib\\site-packages\\sklearn\\externals\\six.py:31: DeprecationWarning: The module is deprecated in version 0.21 and will be removed in version 0.23 since we've dropped support for Python 2.7. Please rely on the official version of six (https://pypi.org/project/six/).\n",
      "  \"(https://pypi.org/project/six/).\", DeprecationWarning)\n"
     ]
    },
    {
     "name": "stdout",
     "output_type": "stream",
     "text": [
      "[[1 0]\n",
      " [0 4]]\n",
      "               precision    recall  f1-score   support\n",
      "\n",
      "Cracked bulge       1.00      1.00      1.00         1\n",
      " Smooth bulge       1.00      1.00      1.00         4\n",
      "\n",
      "     accuracy                           1.00         5\n",
      "    macro avg       1.00      1.00      1.00         5\n",
      " weighted avg       1.00      1.00      1.00         5\n",
      "\n"
     ]
    },
    {
     "data": {
      "image/png": "[encoded data removed]",
      "text/plain": [
       "<IPython.core.display.Image object>"
      ]
     },
     "execution_count": 3,
     "metadata": {},
     "output_type": "execute_result"
    }
   ],
   "source": [
    "from sklearn import preprocessing\n",
    "import pandas as pd\n",
    "import matplotlib.pyplot as plt\n",
    "from sklearn.model_selection import train_test_split\n",
    "from sklearn.preprocessing import LabelEncoder\n",
    "df=pd.read_csv(r'C:\\Users\\dell\\Desktop\\Perforation plates-2.csv')\n",
    "x=df.drop('Damage Type',axis='columns')\n",
    "y=df['Damage Type']\n",
    "le = preprocessing.LabelEncoder()\n",
    "x1 = df.apply(le.fit_transform)\n",
    "enc = preprocessing.OneHotEncoder()\n",
    "enc.fit(x1)\n",
    "onehotlabels = enc.transform(x1).toarray()\n",
    "y=y.values.reshape(-1,1)\n",
    "from sklearn.model_selection import train_test_split\n",
    "x1_train, x1_test, y_train, y_test = train_test_split(x1, y, random_state=0)\n",
    "from sklearn.ensemble import RandomForestClassifier\n",
    "classifier=DecisionTreeClassifier()\n",
    "classifier=classifier.fit(x1_train,y_train)\n",
    "pred_y= classifier.predict(x1_test)\n",
    "from sklearn.metrics import classification_report, confusion_matrix\n",
    "from sklearn import metrics\n",
    "print(confusion_matrix(y_test, pred_y))\n",
    "print(classification_report(y_test, pred_y))\n",
    "from sklearn.tree import DecisionTreeClassifier\n",
    "from sklearn import datasets\n",
    "from IPython.display import Image  \n",
    "from sklearn import tree\n",
    "import pydotplus\n",
    "from sklearn.externals.six import StringIO  \n",
    "from IPython.display import Image  \n",
    "from sklearn.tree import export_graphviz\n",
    "import pydotplus\n",
    "dot_data = StringIO()\n",
    "export_graphviz(classifier, out_file=dot_data,filled=True, rounded=True,special_characters=True)\n",
    "graph = pydotplus.graph_from_dot_data(dot_data.getvalue())  \n",
    "Image(graph.create_png())"
   ]
  },
  {
   "cell_type": "code",
   "execution_count": null,
   "metadata": {},
   "outputs": [],
   "source": [
    "from sklearn import preprocessing\n",
    "import pandas as pd\n",
    "import matplotlib.pyplot as plt\n",
    "from sklearn.model_selection import train_test_split\n",
    "from sklearn.preprocessing import LabelEncoder\n",
    "df=pd.read_csv(r'C:\\Users\\dell\\Desktop\\Perforation plates-2.csv')\n",
    "x=df.drop('Damage Type',axis='columns')\n",
    "y=df['Damage Type']\n",
    "le = preprocessing.LabelEncoder()\n",
    "x1 = df.apply(le.fit_transform)\n",
    "enc = preprocessing.OneHotEncoder()\n",
    "enc.fit(x1)\n",
    "onehotlabels = enc.transform(x1).toarray()\n",
    "x1_train, x1_test, y_train, y_test = train_test_split(x1, y, random_state=0)\n",
    "y=y.values.reshape(-1,1)\n",
    "from sklearn.naive_bayes import GaussianNB\n",
    "model = GaussianNB()\n",
    "model.fit(x1_train, y_train)\n",
    "y_model= model.predict(x1_test)\n",
    "from sklearn import metrics\n",
    "from sklearn.metrics import classification_report, confusion_matrix\n",
    "print(confusion_matrix(y_test, y_model))\n",
    "print(classification_report(y_test, y_model))\n",
    "from sklearn.metrics import classification_report, confusion_matrix\n",
    "import seaborn as sns\n",
    "mat = confusion_matrix(y_test, y_model)\n",
    "sns.heatmap(mat, square=True, annot=True, cbar=False)\n",
    "plt.xlabel('predicted value')\n",
    "plt.ylabel('true value')"
   ]
  },
  {
   "cell_type": "code",
   "execution_count": null,
   "metadata": {},
   "outputs": [],
   "source": []
  }
 ],
 "metadata": {
  "kernelspec": {
   "display_name": "Python 3",
   "language": "python",
   "name": "python3"
  },
  "language_info": {
   "codemirror_mode": {
    "name": "ipython",
    "version": 3
   },
   "file_extension": ".py",
   "mimetype": "text/x-python",
   "name": "python",
   "nbconvert_exporter": "python",
   "pygments_lexer": "ipython3",
   "version": "3.7.4"
  }
 },
 "nbformat": 4,
 "nbformat_minor": 2
}
